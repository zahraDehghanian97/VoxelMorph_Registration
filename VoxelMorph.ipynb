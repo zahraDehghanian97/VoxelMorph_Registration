{
  "cells": [
    {
      "cell_type": "markdown",
      "metadata": {
        "id": "view-in-github",
        "colab_type": "text"
      },
      "source": [
        "<a href=\"https://colab.research.google.com/github/zahraDehghanian97/VoxelMorph_Registration/blob/master/VoxelMorph.ipynb\" target=\"_parent\"><img src=\"https://colab.research.google.com/assets/colab-badge.svg\" alt=\"Open In Colab\"/></a>"
      ]
    },
    {
      "cell_type": "markdown",
      "metadata": {
        "id": "nJm8XSH94KUP"
      },
      "source": [
        "# Medical Image Registration Using Voxelmorph\n",
        "## Intelligent Analysis of Biomedical Images - Fall 2022\n",
        "## Instructor: Dr. M. H. Rohban\n",
        "## HW5 - Practical\n",
        "## Student Name: Zahra Dehghanian\n",
        "## Student ID: 401300417\n"
      ]
    },
    {
      "cell_type": "markdown",
      "metadata": {
        "id": "4lSKRWHfjpdU"
      },
      "source": [
        "In this assignment, you are going to train a voxelmorph network to do the unsupervised image registration task. You are going to use the [CHAOS MR T2 dataset](https://chaos.grand-challenge.org/), which is available to you from this google drive folder: [dataset](https://drive.google.com/drive/folders/1BGPa--fsmf8I5AeyFxa142N4lXpTqzIG?usp=sharing).\n",
        "In this folder, you have access to 20 3D MR images of 20 different patients. Each image has its own number of slices (2D images) and consists of only one channel (gray-scaled images).\n",
        "\n",
        "In the folder provided, you will have four different types of objects:\n",
        "\n",
        "\n",
        "1.   the image itself\n",
        "2.   the foreground mask (fgmask) of the image\n",
        "3.   the label of the image\n",
        "4.   the superpixels of the image\n",
        "\n",
        "You have nothing to do with the superpixels; they are just in the folder. \n",
        "\n",
        "### Trianing\n",
        "In the following sections, you may read the data, get familiar with it, and implement a Pytorch code that trains a Voxelmorph network to register a moving image (2D) to a fixed image (also 2D). \n",
        "\n",
        "1.   Do your training with 19 images (all except the last one which has the ID 39; we need it for the testing part)\n",
        "2.   You have to train your network in an unsupervised manner (don't use labels in training)\n",
        "3.   Use voxelmorph library; you don't need to implement the model yourself\n",
        "4.   Use both similarity and smoothness losses. You may use trial and error to determine the best combination of these losses.\n",
        "5. Plot the training loss  \n",
        "6. Visualize your model's ability to register images by plotting at least 10 (moving, moved, fixed) triplets\n",
        "6.   You may use creative approaches to improve your results (e.g., train bidirectional, train with not adjacent slices, etc.)\n",
        "\n",
        "### Testing\n",
        "\n",
        "\n",
        "1.   Pick the patient 39 image and label\n",
        "2.   Find the range of slices in which all slices have a labeled organ (slices whose label is not blank)\n",
        "3.   Pick the middle slice in the range mentioned above\n",
        "4.   Propagate its label to the whole volume using your trained model (using the displacement fields)\n",
        "5.   Visualize your results. Plot propagated labels and actual labels in order to do an intuitive comparison\n",
        "6.   Take the dice score between the propagated labels and the actual labels of slices. Report them one by one. Take the average of those. Report this number as the final metric of evaluation of your model.\n",
        "\n",
        "\n",
        "\n",
        "\n",
        "\n"
      ]
    },
    {
      "cell_type": "markdown",
      "metadata": {
        "id": "FWipRp2ijIrO"
      },
      "source": [
        "# Mount Drive\n",
        "Mount your Google Drive here to get access to the data folder. If you don't know what is it and how to do it, use this [link](https://www.geeksforgeeks.org/download-anything-to-google-drive-using-google-colab/#:~:text=To%20import%20google%20drive%2C%20write,run%20it%20by%20Ctrl%2BEnter%20.&text=On%20running%20code%2C%20one%20blue,permission%20to%20access%20google%20drive.)"
      ]
    },
    {
      "cell_type": "code",
      "execution_count": null,
      "metadata": {
        "colab": {
          "base_uri": "https://localhost:8080/"
        },
        "id": "FJdmZX7D4K9t",
        "outputId": "25df4a7a-f421-4260-da7b-b3ffec169b1b"
      },
      "outputs": [
        {
          "name": "stdout",
          "output_type": "stream",
          "text": [
            "Mounted at /content/gdrive\n"
          ]
        }
      ],
      "source": [
        "from google.colab import drive\n",
        "drive.mount('/content/gdrive', force_remount=True)"
      ]
    },
    {
      "cell_type": "markdown",
      "metadata": {
        "id": "kM7w5szZ4UK8"
      },
      "source": [
        "# Installations"
      ]
    },
    {
      "cell_type": "code",
      "execution_count": null,
      "metadata": {
        "colab": {
          "base_uri": "https://localhost:8080/"
        },
        "id": "wv3kPPL8nMnS",
        "outputId": "4013ecc2-fdd3-4c5c-a626-b74288496727"
      },
      "outputs": [
        {
          "name": "stdout",
          "output_type": "stream",
          "text": [
            "\u001b[K     |████████████████████████████████| 52.7 MB 148 kB/s \n",
            "\u001b[?25hLooking in indexes: https://pypi.org/simple, https://us-python.pkg.dev/colab-wheels/public/simple/\n",
            "Collecting sacred==0.7.5\n",
            "  Downloading sacred-0.7.5-py2.py3-none-any.whl (92 kB)\n",
            "\u001b[K     |████████████████████████████████| 92 kB 272 kB/s \n",
            "\u001b[?25hRequirement already satisfied: packaging>=18.0 in /usr/local/lib/python3.8/dist-packages (from sacred==0.7.5) (21.3)\n",
            "Collecting py-cpuinfo>=4.0\n",
            "  Downloading py_cpuinfo-9.0.0-py3-none-any.whl (22 kB)\n",
            "Collecting jsonpickle<1.0,>=0.7.2\n",
            "  Downloading jsonpickle-0.9.6.tar.gz (67 kB)\n",
            "\u001b[K     |████████████████████████████████| 67 kB 6.4 MB/s \n",
            "\u001b[?25hRequirement already satisfied: wrapt<2.0,>=1.0 in /usr/local/lib/python3.8/dist-packages (from sacred==0.7.5) (1.14.1)\n",
            "Collecting colorama>=0.4\n",
            "  Downloading colorama-0.4.6-py2.py3-none-any.whl (25 kB)\n",
            "Collecting munch<3.0,>=2.0.2\n",
            "  Downloading munch-2.5.0-py2.py3-none-any.whl (10 kB)\n",
            "Collecting docopt<1.0,>=0.3\n",
            "  Downloading docopt-0.6.2.tar.gz (25 kB)\n",
            "Requirement already satisfied: six in /usr/local/lib/python3.8/dist-packages (from munch<3.0,>=2.0.2->sacred==0.7.5) (1.15.0)\n",
            "Requirement already satisfied: pyparsing!=3.0.5,>=2.0.2 in /usr/local/lib/python3.8/dist-packages (from packaging>=18.0->sacred==0.7.5) (3.0.9)\n",
            "Building wheels for collected packages: docopt, jsonpickle\n",
            "  Building wheel for docopt (setup.py) ... \u001b[?25l\u001b[?25hdone\n",
            "  Created wheel for docopt: filename=docopt-0.6.2-py2.py3-none-any.whl size=13723 sha256=12bed39b9b7cc91cc53fac68ee654abe5536009576f979387d729ddc4af47f8f\n",
            "  Stored in directory: /root/.cache/pip/wheels/56/ea/58/ead137b087d9e326852a851351d1debf4ada529b6ac0ec4e8c\n",
            "  Building wheel for jsonpickle (setup.py) ... \u001b[?25l\u001b[?25hdone\n",
            "  Created wheel for jsonpickle: filename=jsonpickle-0.9.6-py3-none-any.whl size=29480 sha256=7b2d5ef04b4f9f196885773146d12830159e31ecfb9abe3cf153a2b5f3f2c086\n",
            "  Stored in directory: /root/.cache/pip/wheels/ab/e7/04/52ff0efc2d7898b2c830b2bbadb1c8a376303934593aaa3638\n",
            "Successfully built docopt jsonpickle\n",
            "Installing collected packages: py-cpuinfo, munch, jsonpickle, docopt, colorama, sacred\n",
            "Successfully installed colorama-0.4.6 docopt-0.6.2 jsonpickle-0.9.6 munch-2.5.0 py-cpuinfo-9.0.0 sacred-0.7.5\n",
            "\u001b[K     |████████████████████████████████| 54 kB 2.1 MB/s \n",
            "\u001b[K     |████████████████████████████████| 108 kB 16.9 MB/s \n",
            "\u001b[?25h"
          ]
        }
      ],
      "source": [
        "!pip install SimpleITK -q\n",
        "!pip install sacred==0.7.5\n",
        "!pip install voxelmorph -q"
      ]
    },
    {
      "cell_type": "markdown",
      "metadata": {
        "id": "NwMzjV-L4YdI"
      },
      "source": [
        "# Imports"
      ]
    },
    {
      "cell_type": "code",
      "execution_count": null,
      "metadata": {
        "id": "ld0ZP_Y5plq5"
      },
      "outputs": [],
      "source": [
        "import os\n",
        "import numpy as np\n",
        "from matplotlib import pyplot as plt\n",
        "import glob\n",
        "from tqdm import tqdm\n",
        "import torch\n",
        "\n",
        "os.environ['VXM_BACKEND'] = 'pytorch'\n",
        "import voxelmorph as vxm\n",
        "\n",
        "import SimpleITK as sitk\n",
        "import pickle\n",
        "import json\n",
        "import time"
      ]
    },
    {
      "cell_type": "markdown",
      "metadata": {
        "id": "y_s4XaUw4bTX"
      },
      "source": [
        "# Reading Data"
      ]
    },
    {
      "cell_type": "code",
      "execution_count": null,
      "metadata": {
        "id": "ks-BTFkkp9bz"
      },
      "outputs": [],
      "source": [
        "class Patient:\n",
        "    def __init__(self, id_):\n",
        "        self.id = id_\n",
        "        self.frames_count = None\n",
        "        self.fgmasks = None\n",
        "        self.images = None\n",
        "        self.labels = None\n",
        "\n",
        "    def remove_without_labels(self):\n",
        "        idx = []\n",
        "        for frame_number, label in enumerate(self.labels):\n",
        "            if label.max() > 0:\n",
        "                idx.append(frame_number)\n",
        "        self.frames_count = len(idx)\n",
        "        self.fgmasks = self.fgmasks[idx]\n",
        "        self.images = self.images[idx]\n",
        "        self.labels = self.labels[idx]\n",
        "        \n",
        "    def print_data_shapes(self):\n",
        "        print('patient ', self.id)\n",
        "        print('fmgasks: ', self.fgmasks.shape)\n",
        "        print('images: ', self.images.shape)\n",
        "        print('lables: ', self.labels.shape)\n",
        "        print('-' * 30)\n",
        "\n",
        "    def plot(self, frame_number):\n",
        "        fig , (ax1, ax2, ax3) = plt.subplots(1, 3, figsize=(15, 15))\n",
        "        ax1.imshow(self.images[frame_number], origin='lower', cmap='gray')\n",
        "        ax2.imshow(self.fgmasks[frame_number], origin='lower', cmap='gray')\n",
        "        ax3.imshow(self.labels[frame_number], origin='lower', cmap='gray')\n",
        "        ax1.set_title(\"image\")\n",
        "        ax2.set_title(\"fgmask\")\n",
        "        ax3.set_title(\"lable\")\n",
        "\n",
        "\n",
        "def create_patients(ids):\n",
        "    patients = {}\n",
        "    for id_ in ids:\n",
        "        patients[id_] = Patient(id_)\n",
        "    return patients\n"
      ]
    },
    {
      "cell_type": "code",
      "execution_count": null,
      "metadata": {
        "id": "O9FFfe2Gsdr3"
      },
      "outputs": [],
      "source": [
        "def save_patients_images(path):\n",
        "    images = {}\n",
        "    for id, patient in patients.items():\n",
        "        images[id] = patient.images\n",
        "    with open(path, 'wb') as f:\n",
        "        pickle.dump(images, f)\n",
        "\n",
        "\n",
        "def save_patients_superpixs(path):\n",
        "    superpixs = {}\n",
        "    for id, patient in patients.items():\n",
        "        superpixs[id] = patient.superpixs\n",
        "    with open(path, 'wb') as f:\n",
        "        pickle.dump(superpixs, f)\n",
        "\n",
        "\n",
        "def save_patients_labels(path):\n",
        "    labels = {}\n",
        "    for id, patient in patients.items():\n",
        "        labels[id] = patient.labels\n",
        "    with open(path, 'wb') as f:\n",
        "        pickle.dump(labels, f)\n",
        "\n",
        "\n",
        "def read_nii_bysitk(input_fid, peel_info=False):\n",
        "    \"\"\" read nii to numpy through simpleitk\n",
        "        peelinfo: taking direction, origin, spacing and metadata out\n",
        "    \"\"\"\n",
        "    img_obj = sitk.ReadImage(input_fid)\n",
        "    img_np = sitk.GetArrayFromImage(img_obj)\n",
        "    if peel_info:\n",
        "        info_obj = {\n",
        "            \"spacing\": img_obj.GetSpacing(),\n",
        "            \"origin\": img_obj.GetOrigin(),\n",
        "            \"direction\": img_obj.GetDirection(),\n",
        "            \"array_size\": img_np.shape\n",
        "        }\n",
        "        return img_np, info_obj\n",
        "    else:\n",
        "        return img_np"
      ]
    },
    {
      "cell_type": "code",
      "execution_count": null,
      "metadata": {
        "colab": {
          "base_uri": "https://localhost:8080/"
        },
        "id": "jWNCTquYsplA",
        "outputId": "57577742-a886-4790-a345-3c92e4a0bb69"
      },
      "outputs": [
        {
          "name": "stderr",
          "output_type": "stream",
          "text": [
            "Reading: 80it [00:38,  2.08it/s]\n"
          ]
        }
      ],
      "source": [
        "patient_ids = [1, 2, 3, 5, 8, 10, 13, 15, 19, 20, 21, 22, 31, 32, 33, 34, 36, 37, 38, 39]\n",
        "project_root = \"/content/gdrive/MyDrive/IABI-F2022/\"\n",
        "data_root = '/content/gdrive/MyDrive/IABI-F2022/chaos_MR_T2_normalized/'\n",
        "\n",
        "patients = create_patients(patient_ids)\n",
        "for path in tqdm(glob.iglob(data_root + '**/*.nii.gz', recursive=True), desc=\"Reading\"):\n",
        "    id_ = int(path.split('_')[-1].split('.')[0])\n",
        "    patient = patients.get(id_)\n",
        "    obj = read_nii_bysitk(path)\n",
        "    if 'fgmask' in path:\n",
        "        patient.fgmasks = obj\n",
        "        patient.frames_count = obj.shape[0]\n",
        "    elif 'image' in path:\n",
        "        patient.images = obj\n",
        "    elif 'label' in path:\n",
        "        patient.labels = obj"
      ]
    },
    {
      "cell_type": "code",
      "execution_count": null,
      "metadata": {
        "id": "5BfEqLR4zwck"
      },
      "outputs": [],
      "source": []
    },
    {
      "cell_type": "markdown",
      "metadata": {
        "id": "orS38vDS5LDU"
      },
      "source": [
        "# Visualization"
      ]
    },
    {
      "cell_type": "code",
      "execution_count": null,
      "metadata": {
        "id": "WJYEFkfh0-yL"
      },
      "outputs": [],
      "source": []
    },
    {
      "cell_type": "markdown",
      "metadata": {
        "id": "yKz3kgU8-eNl"
      },
      "source": [
        "# Volxelmorph"
      ]
    },
    {
      "cell_type": "code",
      "execution_count": null,
      "metadata": {
        "id": "ltFledjv1B9o"
      },
      "outputs": [],
      "source": []
    },
    {
      "cell_type": "code",
      "execution_count": null,
      "metadata": {
        "id": "hBqRc0s22jtG"
      },
      "outputs": [],
      "source": []
    },
    {
      "cell_type": "markdown",
      "metadata": {
        "id": "lbYcMYsdseRM"
      },
      "source": [
        "# Data Set and Data Loader"
      ]
    },
    {
      "cell_type": "code",
      "execution_count": null,
      "metadata": {
        "id": "G4CxCapvNwcV"
      },
      "outputs": [],
      "source": []
    },
    {
      "cell_type": "code",
      "execution_count": null,
      "metadata": {
        "id": "Wt7uofVa2jva"
      },
      "outputs": [],
      "source": []
    },
    {
      "cell_type": "code",
      "execution_count": null,
      "metadata": {
        "id": "7P41ALs9OZ8F"
      },
      "outputs": [],
      "source": []
    },
    {
      "cell_type": "markdown",
      "metadata": {
        "id": "xIcPPRarsjJh"
      },
      "source": [
        "# Data Loader Visualization"
      ]
    },
    {
      "cell_type": "code",
      "execution_count": null,
      "metadata": {
        "id": "G9YqV904p3ao"
      },
      "outputs": [],
      "source": []
    },
    {
      "cell_type": "code",
      "execution_count": null,
      "metadata": {
        "id": "PymlSy7crf0r"
      },
      "outputs": [],
      "source": []
    },
    {
      "cell_type": "markdown",
      "metadata": {
        "id": "-go3e3OUwsTG"
      },
      "source": [
        "# Model and Optimizer"
      ]
    },
    {
      "cell_type": "code",
      "execution_count": null,
      "metadata": {
        "id": "GwTFKmZClA4a"
      },
      "outputs": [],
      "source": []
    },
    {
      "cell_type": "markdown",
      "metadata": {
        "id": "1yVa2qwsym7H"
      },
      "source": [
        "# Spatial Transformer"
      ]
    },
    {
      "cell_type": "code",
      "execution_count": null,
      "metadata": {
        "id": "nGJC29Ll22ff"
      },
      "outputs": [],
      "source": []
    },
    {
      "cell_type": "code",
      "execution_count": null,
      "metadata": {
        "id": "aGjqraAT7c_w"
      },
      "outputs": [],
      "source": []
    },
    {
      "cell_type": "markdown",
      "metadata": {
        "id": "n7ouPDaOw0LF"
      },
      "source": [
        "# Training"
      ]
    },
    {
      "cell_type": "code",
      "execution_count": null,
      "metadata": {
        "id": "uIFAtQmzl4tm"
      },
      "outputs": [],
      "source": []
    },
    {
      "cell_type": "code",
      "execution_count": null,
      "metadata": {
        "id": "bIF7Vpbfyg9B"
      },
      "outputs": [],
      "source": []
    },
    {
      "cell_type": "markdown",
      "metadata": {
        "id": "746y-SXFoYse"
      },
      "source": [
        "# Testing"
      ]
    },
    {
      "cell_type": "code",
      "execution_count": null,
      "metadata": {
        "id": "OzmTU-dE0Yze"
      },
      "outputs": [],
      "source": []
    }
  ],
  "metadata": {
    "accelerator": "GPU",
    "colab": {
      "provenance": [],
      "include_colab_link": true
    },
    "gpuClass": "standard",
    "kernelspec": {
      "display_name": "Python 3 (ipykernel)",
      "language": "python",
      "name": "python3"
    },
    "language_info": {
      "codemirror_mode": {
        "name": "ipython",
        "version": 3
      },
      "file_extension": ".py",
      "mimetype": "text/x-python",
      "name": "python",
      "nbconvert_exporter": "python",
      "pygments_lexer": "ipython3",
      "version": "3.9.12"
    }
  },
  "nbformat": 4,
  "nbformat_minor": 0
}